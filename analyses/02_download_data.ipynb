{
 "cells": [
  {
   "cell_type": "markdown",
   "id": "5222dca7-29ed-4e9b-b177-2f13a218c457",
   "metadata": {},
   "source": [
    "# Import"
   ]
  },
  {
   "cell_type": "code",
   "execution_count": 12,
   "id": "94629a3c-8dde-4dd1-821c-6988fcb0f8ec",
   "metadata": {},
   "outputs": [],
   "source": [
    "import os\n",
    "os.environ['AWS_NO_SIGN_REQUEST'] = 'YES'\n",
    "os.environ['AWS_S3_ENDPOINT'] = 's3.af-south-1.amazonaws.com'\n",
    "import xarray as xr\n",
    "import rioxarray as rx\n",
    "import pandas as pd\n",
    "import numpy as np\n",
    "import folium\n",
    "from pystac_client import Client\n",
    "from odc.stac import configure_rio\n",
    "from matplotlib import pyplot as plt\n",
    "from pathlib import Path"
   ]
  },
  {
   "cell_type": "code",
   "execution_count": 13,
   "id": "3b5c2406-54f7-42e1-a804-88aff51d96c6",
   "metadata": {},
   "outputs": [
    {
     "data": {
      "text/plain": [
       "True"
      ]
     },
     "execution_count": 13,
     "metadata": {},
     "output_type": "execute_result"
    }
   ],
   "source": [
    "data_dir = Path('data')\n",
    "data_dir.mkdir(exist_ok=True,parents=True)\n",
    "data_dir.exists()"
   ]
  },
  {
   "cell_type": "markdown",
   "id": "3dea85a0-a637-42e5-a91f-73fb9cac6319",
   "metadata": {},
   "source": [
    "# Connect to Digital Earth Africa "
   ]
  },
  {
   "cell_type": "code",
   "execution_count": 14,
   "id": "d0592a94-da53-4d02-a1cd-353fe0be4a3c",
   "metadata": {},
   "outputs": [],
   "source": [
    "catalog = Client.open(\"https://explorer.digitalearth.africa/stac\")\n",
    "\n",
    "configure_rio(\n",
    "    cloud_defaults=True,\n",
    "    aws={\"aws_unsigned\": True},\n",
    "    AWS_S3_ENDPOINT=\"s3.af-south-1.amazonaws.com\",\n",
    ")"
   ]
  },
  {
   "cell_type": "markdown",
   "id": "c958947a-1ff9-4fbd-a43e-5d1dcc4ca74e",
   "metadata": {},
   "source": [
    "# Rainfall Daily"
   ]
  },
  {
   "cell_type": "markdown",
   "id": "5269ffb1-7c09-41cf-9c6d-1893bc4bd373",
   "metadata": {},
   "source": [
    "## Define spatial and temporal extent"
   ]
  },
  {
   "cell_type": "code",
   "execution_count": 15,
   "id": "17820887-4001-4bb8-93c4-5f38a095706d",
   "metadata": {},
   "outputs": [],
   "source": [
    "bbox = [30.80, 2.48, 32.04, 3.87]\n",
    "start_date = \"1981-01-01\"\n",
    "end_date = \"2022-12-31\"\n",
    "collections = [\"rainfall_chirps_daily\"]"
   ]
  },
  {
   "cell_type": "code",
   "execution_count": 16,
   "id": "0d1298bf-5cc9-4f0a-8f3f-cb1eb6d0afbf",
   "metadata": {},
   "outputs": [],
   "source": [
    "from my_utils.utils import generate_yearly_dates"
   ]
  },
  {
   "cell_type": "code",
   "execution_count": 17,
   "id": "6f9e15ad-3084-4fc7-8900-ee5a814fd20d",
   "metadata": {},
   "outputs": [],
   "source": [
    "yearly_dates = generate_yearly_dates(start_date,end_date)\n",
    "# yearly_dates"
   ]
  },
  {
   "cell_type": "markdown",
   "id": "c726b696-3c50-49eb-80f7-f7f8b8cfb306",
   "metadata": {},
   "source": [
    "## Query and Download"
   ]
  },
  {
   "cell_type": "code",
   "execution_count": 18,
   "id": "1f01008d-8761-4d41-a707-82a2574c68c5",
   "metadata": {},
   "outputs": [],
   "source": [
    "import my_utils.utils\n",
    "import importlib\n",
    "importlib.reload(my_utils.utils)\n",
    "from my_utils.utils import query_data, process_query_result"
   ]
  },
  {
   "cell_type": "code",
   "execution_count": null,
   "id": "19233e6c-d1d4-4732-9987-4ee8c19afd65",
   "metadata": {},
   "outputs": [
    {
     "name": "stdout",
     "output_type": "stream",
     "text": [
      "Processing 1981-01-01-1981-12-31\n",
      "Found: 365 datasets\n",
      "processing items...\n"
     ]
    }
   ],
   "source": [
    "for cur_start_date, cur_end_date in yearly_dates:\n",
    "    \n",
    "    print(f'Processing {cur_start_date}-{cur_end_date}')\n",
    "    q_results = query_data(cur_start_date, cur_end_date,catalog,bbox,collections)\n",
    "    df = process_query_result(q_results)\n",
    "    \n",
    "    file_name = f'{cur_start_date}-{cur_end_date}.csv'\n",
    "    file = Path(data_dir)/file_name\n",
    "    df.to_csv(file)\n",
    "    print(f'Saved to {file}')\n",
    "    \n",
    "    "
   ]
  },
  {
   "cell_type": "code",
   "execution_count": null,
   "id": "9ee45025-30fd-49a9-8e60-af43b637f596",
   "metadata": {},
   "outputs": [],
   "source": [
    "raise RuntimeError('Testing below this...')"
   ]
  },
  {
   "cell_type": "markdown",
   "id": "4696ad4e-199f-47c9-a214-96bf7b9f3f23",
   "metadata": {},
   "source": [
    "# testing"
   ]
  },
  {
   "cell_type": "code",
   "execution_count": null,
   "id": "0c45ebd3-f325-4954-a1a3-a399bb4cb702",
   "metadata": {},
   "outputs": [],
   "source": [
    "cur_start_date = '1981-01-04'\n",
    "cur_end_date = '1981-01-06'"
   ]
  },
  {
   "cell_type": "code",
   "execution_count": null,
   "id": "726b24ca-d420-459f-9ece-69f74de15241",
   "metadata": {
    "scrolled": true
   },
   "outputs": [],
   "source": [
    "q_results = query_data(cur_start_date, cur_end_date,catalog,bbox,collections)\n",
    "q_results"
   ]
  },
  {
   "cell_type": "code",
   "execution_count": null,
   "id": "932789fa-2960-4c1f-87e8-72bd8ea22758",
   "metadata": {},
   "outputs": [],
   "source": [
    "q_results[0]"
   ]
  },
  {
   "cell_type": "code",
   "execution_count": null,
   "id": "bf5e54ee-d252-4931-ada4-b6da96f765a5",
   "metadata": {},
   "outputs": [],
   "source": [
    "%%time\n",
    "df = process_query_result(q_results)\n",
    "df"
   ]
  },
  {
   "cell_type": "code",
   "execution_count": null,
   "id": "d97267d4-6561-45af-a1cb-6ec9afd4993f",
   "metadata": {},
   "outputs": [],
   "source": [
    "file_name = f'{start_date}-{end_date}.csv'\n",
    "file = Path(data_dir)/file_name\n",
    "df.to_csv(file)\n",
    "print(f'Saved to {file}')"
   ]
  },
  {
   "cell_type": "code",
   "execution_count": null,
   "id": "e8d61c82-6c42-4a5a-a220-98647fe771a7",
   "metadata": {},
   "outputs": [],
   "source": [
    "pd.read_csv(Path(data_dir)/file_name)"
   ]
  }
 ],
 "metadata": {
  "kernelspec": {
   "display_name": "Python 3 (ipykernel)",
   "language": "python",
   "name": "python3"
  },
  "language_info": {
   "codemirror_mode": {
    "name": "ipython",
    "version": 3
   },
   "file_extension": ".py",
   "mimetype": "text/x-python",
   "name": "python",
   "nbconvert_exporter": "python",
   "pygments_lexer": "ipython3",
   "version": "3.12.9"
  }
 },
 "nbformat": 4,
 "nbformat_minor": 5
}
