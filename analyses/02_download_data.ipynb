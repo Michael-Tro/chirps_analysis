{
 "cells": [
  {
   "cell_type": "markdown",
   "id": "5222dca7-29ed-4e9b-b177-2f13a218c457",
   "metadata": {},
   "source": [
    "# Import"
   ]
  },
  {
   "cell_type": "code",
   "execution_count": 1,
   "id": "94629a3c-8dde-4dd1-821c-6988fcb0f8ec",
   "metadata": {},
   "outputs": [],
   "source": [
    "import os\n",
    "os.environ['AWS_NO_SIGN_REQUEST'] = 'YES'\n",
    "os.environ['AWS_S3_ENDPOINT'] = 's3.af-south-1.amazonaws.com'\n",
    "import xarray as xr\n",
    "import rioxarray as rx\n",
    "import pandas as pd\n",
    "import numpy as np\n",
    "import folium\n",
    "from pystac_client import Client\n",
    "from odc.stac import configure_rio\n",
    "from matplotlib import pyplot as plt\n",
    "from pathlib import Path"
   ]
  },
  {
   "cell_type": "code",
   "execution_count": 2,
   "id": "3b5c2406-54f7-42e1-a804-88aff51d96c6",
   "metadata": {},
   "outputs": [
    {
     "data": {
      "text/plain": [
       "True"
      ]
     },
     "execution_count": 2,
     "metadata": {},
     "output_type": "execute_result"
    }
   ],
   "source": [
    "data_dir = Path('data')\n",
    "data_dir.mkdir(exist_ok=True,parents=True)\n",
    "data_dir.exists()"
   ]
  },
  {
   "cell_type": "markdown",
   "id": "3dea85a0-a637-42e5-a91f-73fb9cac6319",
   "metadata": {},
   "source": [
    "# Connect to Digital Earth Africa "
   ]
  },
  {
   "cell_type": "code",
   "execution_count": 3,
   "id": "d0592a94-da53-4d02-a1cd-353fe0be4a3c",
   "metadata": {},
   "outputs": [],
   "source": [
    "catalog = Client.open(\"https://explorer.digitalearth.africa/stac\")\n",
    "\n",
    "configure_rio(\n",
    "    cloud_defaults=True,\n",
    "    aws={\"aws_unsigned\": True},\n",
    "    AWS_S3_ENDPOINT=\"s3.af-south-1.amazonaws.com\",\n",
    ")"
   ]
  },
  {
   "cell_type": "markdown",
   "id": "c958947a-1ff9-4fbd-a43e-5d1dcc4ca74e",
   "metadata": {},
   "source": [
    "# Rainfall Daily"
   ]
  },
  {
   "cell_type": "markdown",
   "id": "5269ffb1-7c09-41cf-9c6d-1893bc4bd373",
   "metadata": {},
   "source": [
    "## Define spatial and temporal extent"
   ]
  },
  {
   "cell_type": "code",
   "execution_count": 4,
   "id": "17820887-4001-4bb8-93c4-5f38a095706d",
   "metadata": {},
   "outputs": [],
   "source": [
    "bbox = [30.80, 2.48, 32.04, 3.87]\n",
    "start_date = \"1981-01-01\"\n",
    "end_date = \"2022-12-31\"\n",
    "collections = [\"rainfall_chirps_daily\"]"
   ]
  },
  {
   "cell_type": "code",
   "execution_count": 5,
   "id": "0d1298bf-5cc9-4f0a-8f3f-cb1eb6d0afbf",
   "metadata": {},
   "outputs": [],
   "source": [
    "from my_utils.utils import generate_monthly_dates"
   ]
  },
  {
   "cell_type": "code",
   "execution_count": 6,
   "id": "6f9e15ad-3084-4fc7-8900-ee5a814fd20d",
   "metadata": {},
   "outputs": [],
   "source": [
    "date_ranges = generate_monthly_dates(start_date,end_date)\n",
    "# date_ranges"
   ]
  },
  {
   "cell_type": "markdown",
   "id": "c726b696-3c50-49eb-80f7-f7f8b8cfb306",
   "metadata": {},
   "source": [
    "## Query and Download"
   ]
  },
  {
   "cell_type": "code",
   "execution_count": 7,
   "id": "1f01008d-8761-4d41-a707-82a2574c68c5",
   "metadata": {},
   "outputs": [],
   "source": [
    "import my_utils.utils\n",
    "import importlib\n",
    "importlib.reload(my_utils.utils)\n",
    "from my_utils.utils import query_data, process_query_result"
   ]
  },
  {
   "cell_type": "code",
   "execution_count": null,
   "id": "19233e6c-d1d4-4732-9987-4ee8c19afd65",
   "metadata": {
    "scrolled": true
   },
   "outputs": [
    {
     "name": "stdout",
     "output_type": "stream",
     "text": [
      "Processing 1981-01-01-1981-01-31\n",
      "File data/1981-01-01-1981-01-31.csv exists, skipping...\n",
      "Processing 1981-02-01-1981-02-28\n",
      "File data/1981-02-01-1981-02-28.csv exists, skipping...\n",
      "Processing 1981-03-01-1981-03-31\n",
      "File data/1981-03-01-1981-03-31.csv exists, skipping...\n",
      "Processing 1981-04-01-1981-04-30\n",
      "File data/1981-04-01-1981-04-30.csv exists, skipping...\n",
      "Processing 1981-05-01-1981-05-31\n",
      "File data/1981-05-01-1981-05-31.csv exists, skipping...\n",
      "Processing 1981-06-01-1981-06-30\n",
      "File data/1981-06-01-1981-06-30.csv exists, skipping...\n",
      "Processing 1981-07-01-1981-07-31\n",
      "File data/1981-07-01-1981-07-31.csv exists, skipping...\n",
      "Processing 1981-08-01-1981-08-31\n",
      "File data/1981-08-01-1981-08-31.csv exists, skipping...\n",
      "Processing 1981-09-01-1981-09-30\n",
      "File data/1981-09-01-1981-09-30.csv exists, skipping...\n",
      "Processing 1981-10-01-1981-10-31\n",
      "File data/1981-10-01-1981-10-31.csv exists, skipping...\n",
      "Processing 1981-11-01-1981-11-30\n",
      "File data/1981-11-01-1981-11-30.csv exists, skipping...\n",
      "Processing 1981-12-01-1981-12-31\n",
      "File data/1981-12-01-1981-12-31.csv exists, skipping...\n",
      "Processing 1982-01-01-1982-01-31\n",
      "File data/1982-01-01-1982-01-31.csv exists, skipping...\n",
      "Processing 1982-02-01-1982-02-28\n",
      "File data/1982-02-01-1982-02-28.csv exists, skipping...\n",
      "Processing 1982-03-01-1982-03-31\n",
      "File data/1982-03-01-1982-03-31.csv exists, skipping...\n",
      "Processing 1982-04-01-1982-04-30\n",
      "File data/1982-04-01-1982-04-30.csv exists, skipping...\n",
      "Processing 1982-05-01-1982-05-31\n",
      "File data/1982-05-01-1982-05-31.csv exists, skipping...\n",
      "Processing 1982-06-01-1982-06-30\n",
      "File data/1982-06-01-1982-06-30.csv exists, skipping...\n",
      "Processing 1982-07-01-1982-07-31\n",
      "File data/1982-07-01-1982-07-31.csv exists, skipping...\n",
      "Processing 1982-08-01-1982-08-31\n",
      "File data/1982-08-01-1982-08-31.csv exists, skipping...\n",
      "Processing 1982-09-01-1982-09-30\n",
      "File data/1982-09-01-1982-09-30.csv exists, skipping...\n",
      "Processing 1982-10-01-1982-10-31\n",
      "File data/1982-10-01-1982-10-31.csv exists, skipping...\n",
      "Processing 1982-11-01-1982-11-30\n",
      "File data/1982-11-01-1982-11-30.csv exists, skipping...\n",
      "Processing 1982-12-01-1982-12-31\n",
      "File data/1982-12-01-1982-12-31.csv exists, skipping...\n",
      "Processing 1983-01-01-1983-01-31\n",
      "File data/1983-01-01-1983-01-31.csv exists, skipping...\n",
      "Processing 1983-02-01-1983-02-28\n",
      "File data/1983-02-01-1983-02-28.csv exists, skipping...\n",
      "Processing 1983-03-01-1983-03-31\n",
      "File data/1983-03-01-1983-03-31.csv exists, skipping...\n",
      "Processing 1983-04-01-1983-04-30\n",
      "File data/1983-04-01-1983-04-30.csv exists, skipping...\n",
      "Processing 1983-05-01-1983-05-31\n",
      "File data/1983-05-01-1983-05-31.csv exists, skipping...\n",
      "Processing 1983-06-01-1983-06-30\n",
      "File data/1983-06-01-1983-06-30.csv exists, skipping...\n",
      "Processing 1983-07-01-1983-07-31\n",
      "File data/1983-07-01-1983-07-31.csv exists, skipping...\n",
      "Processing 1983-08-01-1983-08-31\n",
      "File data/1983-08-01-1983-08-31.csv exists, skipping...\n",
      "Processing 1983-09-01-1983-09-30\n",
      "File data/1983-09-01-1983-09-30.csv exists, skipping...\n",
      "Processing 1983-10-01-1983-10-31\n",
      "File data/1983-10-01-1983-10-31.csv exists, skipping...\n",
      "Processing 1983-11-01-1983-11-30\n",
      "File data/1983-11-01-1983-11-30.csv exists, skipping...\n",
      "Processing 1983-12-01-1983-12-31\n",
      "File data/1983-12-01-1983-12-31.csv exists, skipping...\n",
      "Processing 1984-01-01-1984-01-31\n",
      "File data/1984-01-01-1984-01-31.csv exists, skipping...\n",
      "Processing 1984-02-01-1984-02-29\n",
      "File data/1984-02-01-1984-02-29.csv exists, skipping...\n",
      "Processing 1984-03-01-1984-03-31\n",
      "File data/1984-03-01-1984-03-31.csv exists, skipping...\n",
      "Processing 1984-04-01-1984-04-30\n",
      "File data/1984-04-01-1984-04-30.csv exists, skipping...\n",
      "Processing 1984-05-01-1984-05-31\n",
      "File data/1984-05-01-1984-05-31.csv exists, skipping...\n",
      "Processing 1984-06-01-1984-06-30\n",
      "File data/1984-06-01-1984-06-30.csv exists, skipping...\n",
      "Processing 1984-07-01-1984-07-31\n",
      "File data/1984-07-01-1984-07-31.csv exists, skipping...\n",
      "Processing 1984-08-01-1984-08-31\n",
      "File data/1984-08-01-1984-08-31.csv exists, skipping...\n",
      "Processing 1984-09-01-1984-09-30\n",
      "File data/1984-09-01-1984-09-30.csv exists, skipping...\n",
      "Processing 1984-10-01-1984-10-31\n",
      "File data/1984-10-01-1984-10-31.csv exists, skipping...\n",
      "Processing 1984-11-01-1984-11-30\n",
      "File data/1984-11-01-1984-11-30.csv exists, skipping...\n",
      "Processing 1984-12-01-1984-12-31\n",
      "File data/1984-12-01-1984-12-31.csv exists, skipping...\n",
      "Processing 1985-01-01-1985-01-31\n",
      "File data/1985-01-01-1985-01-31.csv exists, skipping...\n",
      "Processing 1985-02-01-1985-02-28\n",
      "File data/1985-02-01-1985-02-28.csv exists, skipping...\n",
      "Processing 1985-03-01-1985-03-31\n",
      "File data/1985-03-01-1985-03-31.csv exists, skipping...\n",
      "Processing 1985-04-01-1985-04-30\n",
      "File data/1985-04-01-1985-04-30.csv exists, skipping...\n",
      "Processing 1985-05-01-1985-05-31\n",
      "File data/1985-05-01-1985-05-31.csv exists, skipping...\n",
      "Processing 1985-06-01-1985-06-30\n",
      "File data/1985-06-01-1985-06-30.csv exists, skipping...\n",
      "Processing 1985-07-01-1985-07-31\n",
      "File data/1985-07-01-1985-07-31.csv exists, skipping...\n",
      "Processing 1985-08-01-1985-08-31\n",
      "File data/1985-08-01-1985-08-31.csv exists, skipping...\n",
      "Processing 1985-09-01-1985-09-30\n",
      "File data/1985-09-01-1985-09-30.csv exists, skipping...\n",
      "Processing 1985-10-01-1985-10-31\n",
      "File data/1985-10-01-1985-10-31.csv exists, skipping...\n",
      "Processing 1985-11-01-1985-11-30\n",
      "File data/1985-11-01-1985-11-30.csv exists, skipping...\n",
      "Processing 1985-12-01-1985-12-31\n",
      "File data/1985-12-01-1985-12-31.csv exists, skipping...\n",
      "Processing 1986-01-01-1986-01-31\n",
      "File data/1986-01-01-1986-01-31.csv exists, skipping...\n",
      "Processing 1986-02-01-1986-02-28\n",
      "File data/1986-02-01-1986-02-28.csv exists, skipping...\n",
      "Processing 1986-03-01-1986-03-31\n",
      "File data/1986-03-01-1986-03-31.csv exists, skipping...\n",
      "Processing 1986-04-01-1986-04-30\n",
      "File data/1986-04-01-1986-04-30.csv exists, skipping...\n",
      "Processing 1986-05-01-1986-05-31\n",
      "File data/1986-05-01-1986-05-31.csv exists, skipping...\n",
      "Processing 1986-06-01-1986-06-30\n",
      "File data/1986-06-01-1986-06-30.csv exists, skipping...\n",
      "Processing 1986-07-01-1986-07-31\n",
      "File data/1986-07-01-1986-07-31.csv exists, skipping...\n",
      "Processing 1986-08-01-1986-08-31\n",
      "File data/1986-08-01-1986-08-31.csv exists, skipping...\n",
      "Processing 1986-09-01-1986-09-30\n",
      "File data/1986-09-01-1986-09-30.csv exists, skipping...\n",
      "Processing 1986-10-01-1986-10-31\n",
      "File data/1986-10-01-1986-10-31.csv exists, skipping...\n",
      "Processing 1986-11-01-1986-11-30\n",
      "File data/1986-11-01-1986-11-30.csv exists, skipping...\n",
      "Processing 1986-12-01-1986-12-31\n",
      "File data/1986-12-01-1986-12-31.csv exists, skipping...\n",
      "Processing 1987-01-01-1987-01-31\n",
      "File data/1987-01-01-1987-01-31.csv exists, skipping...\n",
      "Processing 1987-02-01-1987-02-28\n",
      "File data/1987-02-01-1987-02-28.csv exists, skipping...\n",
      "Processing 1987-03-01-1987-03-31\n",
      "File data/1987-03-01-1987-03-31.csv exists, skipping...\n",
      "Processing 1987-04-01-1987-04-30\n",
      "File data/1987-04-01-1987-04-30.csv exists, skipping...\n",
      "Processing 1987-05-01-1987-05-31\n",
      "File data/1987-05-01-1987-05-31.csv exists, skipping...\n",
      "Processing 1987-06-01-1987-06-30\n",
      "File data/1987-06-01-1987-06-30.csv exists, skipping...\n",
      "Processing 1987-07-01-1987-07-31\n",
      "File data/1987-07-01-1987-07-31.csv exists, skipping...\n",
      "Processing 1987-08-01-1987-08-31\n",
      "File data/1987-08-01-1987-08-31.csv exists, skipping...\n",
      "Processing 1987-09-01-1987-09-30\n",
      "File data/1987-09-01-1987-09-30.csv exists, skipping...\n",
      "Processing 1987-10-01-1987-10-31\n",
      "File data/1987-10-01-1987-10-31.csv exists, skipping...\n",
      "Processing 1987-11-01-1987-11-30\n",
      "File data/1987-11-01-1987-11-30.csv exists, skipping...\n",
      "Processing 1987-12-01-1987-12-31\n",
      "File data/1987-12-01-1987-12-31.csv exists, skipping...\n",
      "Processing 1988-01-01-1988-01-31\n",
      "File data/1988-01-01-1988-01-31.csv exists, skipping...\n",
      "Processing 1988-02-01-1988-02-29\n",
      "File data/1988-02-01-1988-02-29.csv exists, skipping...\n",
      "Processing 1988-03-01-1988-03-31\n",
      "File data/1988-03-01-1988-03-31.csv exists, skipping...\n",
      "Processing 1988-04-01-1988-04-30\n",
      "File data/1988-04-01-1988-04-30.csv exists, skipping...\n",
      "Processing 1988-05-01-1988-05-31\n",
      "File data/1988-05-01-1988-05-31.csv exists, skipping...\n",
      "Processing 1988-06-01-1988-06-30\n",
      "File data/1988-06-01-1988-06-30.csv exists, skipping...\n",
      "Processing 1988-07-01-1988-07-31\n",
      "File data/1988-07-01-1988-07-31.csv exists, skipping...\n",
      "Processing 1988-08-01-1988-08-31\n",
      "File data/1988-08-01-1988-08-31.csv exists, skipping...\n",
      "Processing 1988-09-01-1988-09-30\n",
      "File data/1988-09-01-1988-09-30.csv exists, skipping...\n",
      "Processing 1988-10-01-1988-10-31\n",
      "File data/1988-10-01-1988-10-31.csv exists, skipping...\n",
      "Processing 1988-11-01-1988-11-30\n",
      "File data/1988-11-01-1988-11-30.csv exists, skipping...\n",
      "Processing 1988-12-01-1988-12-31\n",
      "File data/1988-12-01-1988-12-31.csv exists, skipping...\n",
      "Processing 1989-01-01-1989-01-31\n",
      "File data/1989-01-01-1989-01-31.csv exists, skipping...\n",
      "Processing 1989-02-01-1989-02-28\n",
      "File data/1989-02-01-1989-02-28.csv exists, skipping...\n",
      "Processing 1989-03-01-1989-03-31\n",
      "File data/1989-03-01-1989-03-31.csv exists, skipping...\n",
      "Processing 1989-04-01-1989-04-30\n",
      "File data/1989-04-01-1989-04-30.csv exists, skipping...\n",
      "Processing 1989-05-01-1989-05-31\n",
      "File data/1989-05-01-1989-05-31.csv exists, skipping...\n",
      "Processing 1989-06-01-1989-06-30\n",
      "File data/1989-06-01-1989-06-30.csv exists, skipping...\n",
      "Processing 1989-07-01-1989-07-31\n",
      "File data/1989-07-01-1989-07-31.csv exists, skipping...\n",
      "Processing 1989-08-01-1989-08-31\n",
      "File data/1989-08-01-1989-08-31.csv exists, skipping...\n",
      "Processing 1989-09-01-1989-09-30\n",
      "File data/1989-09-01-1989-09-30.csv exists, skipping...\n",
      "Processing 1989-10-01-1989-10-31\n",
      "File data/1989-10-01-1989-10-31.csv exists, skipping...\n",
      "Processing 1989-11-01-1989-11-30\n",
      "File data/1989-11-01-1989-11-30.csv exists, skipping...\n",
      "Processing 1989-12-01-1989-12-31\n",
      "File data/1989-12-01-1989-12-31.csv exists, skipping...\n",
      "Processing 1990-01-01-1990-01-31\n",
      "File data/1990-01-01-1990-01-31.csv exists, skipping...\n",
      "Processing 1990-02-01-1990-02-28\n",
      "File data/1990-02-01-1990-02-28.csv exists, skipping...\n",
      "Processing 1990-03-01-1990-03-31\n",
      "File data/1990-03-01-1990-03-31.csv exists, skipping...\n",
      "Processing 1990-04-01-1990-04-30\n",
      "Found: 30 datasets\n",
      "processing items...\n",
      "processing datasets...\n",
      "aggregating...\n",
      "indexing...\n",
      "Saved to data/1990-04-01-1990-04-30.csv\n",
      "Processing 1990-05-01-1990-05-31\n",
      "Found: 31 datasets\n",
      "processing items...\n"
     ]
    }
   ],
   "source": [
    "for cur_start_date, cur_end_date in date_ranges:\n",
    "    \n",
    "    print(f'Processing {cur_start_date}-{cur_end_date}')\n",
    "    file_name = f'{cur_start_date}-{cur_end_date}.csv'\n",
    "    file = Path(data_dir)/file_name\n",
    "    if file.exists():\n",
    "        print(f'File {file} exists, skipping...')\n",
    "    else:\n",
    "        q_results = query_data(cur_start_date, cur_end_date,catalog,bbox,collections)\n",
    "        df = process_query_result(q_results)\n",
    "        df.to_csv(file)\n",
    "        print(f'Saved to {file}')\n",
    "    \n",
    "    "
   ]
  },
  {
   "cell_type": "code",
   "execution_count": null,
   "id": "9ee45025-30fd-49a9-8e60-af43b637f596",
   "metadata": {},
   "outputs": [],
   "source": [
    "raise RuntimeError('Testing below this...')"
   ]
  },
  {
   "cell_type": "markdown",
   "id": "4696ad4e-199f-47c9-a214-96bf7b9f3f23",
   "metadata": {},
   "source": [
    "# testing"
   ]
  },
  {
   "cell_type": "code",
   "execution_count": null,
   "id": "0c45ebd3-f325-4954-a1a3-a399bb4cb702",
   "metadata": {},
   "outputs": [],
   "source": [
    "cur_start_date = '1981-01-04'\n",
    "cur_end_date = '1981-01-06'"
   ]
  },
  {
   "cell_type": "code",
   "execution_count": null,
   "id": "726b24ca-d420-459f-9ece-69f74de15241",
   "metadata": {
    "scrolled": true
   },
   "outputs": [],
   "source": [
    "q_results = query_data(cur_start_date, cur_end_date,catalog,bbox,collections)\n",
    "q_results"
   ]
  },
  {
   "cell_type": "code",
   "execution_count": null,
   "id": "932789fa-2960-4c1f-87e8-72bd8ea22758",
   "metadata": {},
   "outputs": [],
   "source": [
    "q_results[0]"
   ]
  },
  {
   "cell_type": "code",
   "execution_count": null,
   "id": "bf5e54ee-d252-4931-ada4-b6da96f765a5",
   "metadata": {},
   "outputs": [],
   "source": [
    "%%time\n",
    "df = process_query_result(q_results)\n",
    "df"
   ]
  },
  {
   "cell_type": "code",
   "execution_count": null,
   "id": "d97267d4-6561-45af-a1cb-6ec9afd4993f",
   "metadata": {},
   "outputs": [],
   "source": [
    "file_name = f'{start_date}-{end_date}.csv'\n",
    "file = Path(data_dir)/file_name\n",
    "df.to_csv(file)\n",
    "print(f'Saved to {file}')"
   ]
  },
  {
   "cell_type": "code",
   "execution_count": null,
   "id": "e8d61c82-6c42-4a5a-a220-98647fe771a7",
   "metadata": {},
   "outputs": [],
   "source": [
    "pd.read_csv(Path(data_dir)/file_name)"
   ]
  }
 ],
 "metadata": {
  "kernelspec": {
   "display_name": "Python 3 (ipykernel)",
   "language": "python",
   "name": "python3"
  },
  "language_info": {
   "codemirror_mode": {
    "name": "ipython",
    "version": 3
   },
   "file_extension": ".py",
   "mimetype": "text/x-python",
   "name": "python",
   "nbconvert_exporter": "python",
   "pygments_lexer": "ipython3",
   "version": "3.12.9"
  }
 },
 "nbformat": 4,
 "nbformat_minor": 5
}
